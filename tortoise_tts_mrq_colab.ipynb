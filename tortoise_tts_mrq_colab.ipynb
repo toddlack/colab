{
  "cells": [
    {
      "cell_type": "markdown",
      "metadata": {
        "id": "view-in-github",
        "colab_type": "text"
      },
      "source": [
        "<a href=\"https://colab.research.google.com/github/toddlack/colab/blob/test/tortoise_tts_mrq_colab.ipynb\" target=\"_parent\"><img src=\"https://colab.research.google.com/assets/colab-badge.svg\" alt=\"Open In Colab\"/></a>"
      ]
    },
    {
      "cell_type": "code",
      "execution_count": null,
      "metadata": {
        "id": "FtsMKKfH18iM"
      },
      "outputs": [],
      "source": [
        "!apt install python3.8-venv\n",
        "!git clone https://git.ecker.tech/camenduru/ai-voice-cloning\n",
        "%cd /content/ai-voice-cloning\n",
        "!./setup-cuda.sh\n",
        "\n",
        "%cd /content/ai-voice-cloning/\n",
        "!./start.sh --share"
      ]
    }
  ],
  "metadata": {
    "accelerator": "GPU",
    "colab": {
      "private_outputs": true,
      "provenance": [],
      "include_colab_link": true
    },
    "gpuClass": "standard",
    "kernelspec": {
      "display_name": "Python 3",
      "name": "python3"
    },
    "language_info": {
      "name": "python"
    }
  },
  "nbformat": 4,
  "nbformat_minor": 0
}