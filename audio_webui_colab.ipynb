{
 "cells": [
  {
   "cell_type": "markdown",
   "metadata": {
    "id": "sdEMR6I1E8F3"
   },
   "source": [
    "## Before running\n",
    "1. click on \"`Runtime`\".\n",
    "2. click on \"`Change runtime type`\".\n",
    "3. set \"`Hardware accelerator`\" to \"`GPU`\".\n",
    "4. click on \"`save`\"."
   ]
  },
  {
   "cell_type": "code",
   "execution_count": null,
   "metadata": {
    "id": "yXDWd7RwdgTz"
   },
   "outputs": [],
   "source": [
    "from google.colab import drive\n",
    "drive.mount('/content/drive')"
   ]
  },
  {
   "cell_type": "code",
   "execution_count": null,
   "metadata": {
    "id": "OM2iVlTZC8CN"
   },
   "outputs": [],
   "source": [
    "# @title Activate audio (prevents automatic shutdown) { display-mode: \"form\" }\n",
    "%%html\n",
    "<audio src=\"https://oobabooga.github.io/silence.m4a\" controls>"
   ]
  },
  {
   "cell_type": "code",
   "execution_count": null,
   "metadata": {
    "id": "4BNv3IMvDMjX"
   },
   "outputs": [],
   "source": [
    "#@title Setup { display-mode: \"form\" }\n",
    "#@markdown 1. Clones https://github.com/gitmylo/audio-webui/\n",
    "#@markdown 2. Cd's into `audio-webui`\n",
    "#@markdown 3. Fix some google colab default packages\n",
    "\n",
    "!git clone https://github.com/gitmylo/audio-webui/\n",
    "%cd audio-webui\n",
    "\n",
    "!pip uninstall tensorflow -y\n",
    "!pip install --upgrade numpy==1.23.5"
   ]
  },
  {
   "cell_type": "code",
   "execution_count": null,
   "metadata": {
    "id": "LqmO0xhlJxVa"
   },
   "outputs": [],
   "source": [
    "#@title Launching { display-mode: \"form\" }\n",
    "username = '' #@param {type:\"string\"}\n",
    "#@markdown Default: \"`user`\"<br>\n",
    "#@markdown Sets the username for the webui\n",
    "\n",
    "#@markdown\n",
    "\n",
    "password = '' #@param {type:\"string\"}\n",
    "#@markdown Default: \"`pass`\", **please change this**<br>\n",
    "#@markdown Sets the password for the webui\n",
    "\n",
    "#@markdown\n",
    "\n",
    "args = '--theme dark' #@param {type:\"string\"}\n",
    "#@markdown Default: empty<br>\n",
    "#@markdown Sets the other args for the webui\n",
    "\n",
    "#@markdown\n",
    "\n",
    "args = f'-sv {args} -s -u \"{username}\" -p \"{password}\"'\n",
    "!python main.py $args"
   ]
  }
 ],
 "metadata": {
  "accelerator": "GPU",
  "colab": {
   "gpuType": "T4",
   "private_outputs": true,
   "provenance": [
    {
     "file_id": "https://github.com/gitmylo/audio-webui/blob/master/audio_webui_colab.ipynb",
     "timestamp": 1709700220229
    }
   ]
  },
  "kernelspec": {
   "display_name": "Python 3",
   "name": "python3"
  },
  "language_info": {
   "name": "python"
  }
 },
 "nbformat": 4,
 "nbformat_minor": 0
}
