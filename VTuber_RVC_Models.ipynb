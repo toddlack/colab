{
  "nbformat": 4,
  "nbformat_minor": 0,
  "metadata": {
    "colab": {
      "provenance": [],
      "private_outputs": true,
      "include_colab_link": true
    },
    "kernelspec": {
      "name": "python3",
      "display_name": "Python 3"
    },
    "language_info": {
      "name": "python"
    }
  },
  "cells": [
    {
      "cell_type": "markdown",
      "metadata": {
        "id": "view-in-github",
        "colab_type": "text"
      },
      "source": [
        "<a href=\"https://colab.research.google.com/github/toddlack/colab/blob/test/VTuber_RVC_Models.ipynb\" target=\"_parent\"><img src=\"https://colab.research.google.com/assets/colab-badge.svg\" alt=\"Open In Colab\"/></a>"
      ]
    },
    {
      "cell_type": "markdown",
      "source": [
        "# VTuber RVC Models (Colab Version)\n",
        "### Code by Kit Lemonfoot / Noel Shirogane's High Flying Birds\n",
        "\n",
        "This notebook is a Colab alternative to the [Huggingface Space](https://huggingface.co/spaces/Kit-Lemonfoot/vtuber_rvc_models) by the same name. Do no evil.\n",
        "\n",
        "It is *not* recommended to run this notebook under a GPU, as CPU will work perfectly fine. (You can run it under a GPU if you want however.)"
      ],
      "metadata": {
        "id": "G7AQQ0OxbN4N"
      }
    },
    {
      "cell_type": "code",
      "execution_count": null,
      "metadata": {
        "id": "KzHQxbDoEHVm",
        "cellView": "form"
      },
      "outputs": [],
      "source": [
        "#@title Install Dependencies\n",
        "alreadyinstalled=[]\n",
        "!apt-get install -qq -y aria2\n",
        "!GIT_LFS_SKIP_SMUDGE=1 git clone https://huggingface.co/spaces/Kit-Lemonfoot/vtuber_rvc_models\n",
        "%cd /content/vtuber_rvc_models\n",
        "!pip install -r requirements.txt -q\n",
        "!git lfs pull --include rmvpe.pt\n",
        "!git lfs pull --include hubert_base.pt"
      ]
    },
    {
      "cell_type": "code",
      "source": [
        "import json\n",
        "import os\n",
        "#@title Model Downloader\n",
        "#@markdown **WARNING:** Trying to download all the models at once will take a LONG time. It is recommended that you only select the model categories you want.\n",
        "install_holojp = False # @param {type:\"boolean\"}\n",
        "install_holoid = False # @param {type:\"boolean\"}\n",
        "install_holoen = True # @param {type:\"boolean\"}\n",
        "install_holostars = False # @param {type:\"boolean\"}\n",
        "install_holocn = False # @param {type:\"boolean\"}\n",
        "install_nijisanji = False # @param {type:\"boolean\"}\n",
        "install_nijien = False # @param {type:\"boolean\"}\n",
        "install_vshojo = False # @param {type:\"boolean\"}\n",
        "install_phase = False # @param {type:\"boolean\"}\n",
        "install_indies = False # @param {type:\"boolean\"}\n",
        "install_other = False # @param {type:\"boolean\"}\n",
        "%cd /content/vtuber_rvc_models\n",
        "\n",
        "installArr = [\n",
        "    install_holojp,\n",
        "    install_holoid,\n",
        "    install_holoen,\n",
        "    install_holostars,\n",
        "    install_holocn,\n",
        "    install_nijisanji\n",
        "    install_nijien,\n",
        "    install_vshojo,\n",
        "    install_phase,\n",
        "    install_indies,\n",
        "    install_other\n",
        "]\n",
        "nameArr=[\n",
        "   \"hololive-jp\",\n",
        "   \"hololive-id\",\n",
        "   \"hololive-en\",\n",
        "   \"holostars\",\n",
        "   \"hololive-cn\",\n",
        "   \"nijisanji\",\n",
        "   \"nijisanji-en\",\n",
        "   \"vshojo\",\n",
        "   \"phaseconnect\",\n",
        "   \"indies\",\n",
        "   \"other\"\n",
        "]\n",
        "\n",
        "if True:\n",
        "  with open(\"/content/vtuber_rvc_models/weights/folder_info.json\", \"r\", encoding=\"utf-8\") as f:\n",
        "    folders = json.load(f)\n",
        "    for idx in range(len(installArr)):\n",
        "      if nameArr[idx] in alreadyinstalled:\n",
        "        print(f\"Skipping {nameArr[idx]} (already installed)\")\n",
        "        continue\n",
        "      if installArr[idx]:\n",
        "        print(f\"Installing {nameArr[idx]}...\")\n",
        "        folders[nameArr[idx]]['enable'] = True\n",
        "        #modellist = []\n",
        "        for r, _, fn in os.walk(f\"/content/vtuber_rvc_models/weights/{nameArr[idx]}\"):\n",
        "          for name in fn:\n",
        "            if(name.endswith(\".pth\")or name.endswith(\".index\")):\n",
        "              filename=f\"{r}/{name}\"\n",
        "              trimFile=filename[27:]\n",
        "              #print(name)\n",
        "              !aria2c --console-log-level=error --quiet=true -c -x 16 -s 16 -k 1M https://huggingface.co/spaces/Kit-Lemonfoot/vtuber_rvc_models/resolve/main/{trimFile} -d {r} -o {name}\n",
        "        alreadyinstalled.append(nameArr[idx])\n",
        "      else:\n",
        "        print(f\"Skipping {nameArr[idx]}\")\n",
        "        folders[nameArr[idx]]['enable'] = False\n",
        "  os.remove(\"/content/vtuber_rvc_models/weights/folder_info.json\")\n",
        "  with open(\"/content/vtuber_rvc_models/weights/folder_info.json\", 'w') as f:\n",
        "    json.dump(folders, f, indent=4)\n",
        "\n",
        "\n"
      ],
      "metadata": {
        "cellView": "form",
        "id": "AEMt86oufDRq"
      },
      "execution_count": null,
      "outputs": []
    },
    {
      "cell_type": "code",
      "source": [
        "#@title Start App\n",
        "%cd /content/vtuber_rvc_models\n",
        "! python app.py"
      ],
      "metadata": {
        "id": "H7qo-6AWFbLH",
        "cellView": "form"
      },
      "execution_count": null,
      "outputs": []
    }
  ]
}