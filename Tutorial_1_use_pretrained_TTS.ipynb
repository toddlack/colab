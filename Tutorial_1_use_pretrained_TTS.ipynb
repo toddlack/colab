{
  "cells": [
    {
      "cell_type": "markdown",
      "metadata": {
        "id": "view-in-github",
        "colab_type": "text"
      },
      "source": [
        "<a href=\"https://colab.research.google.com/github/toddlack/colab/blob/test/Tutorial_1_use_pretrained_TTS.ipynb\" target=\"_parent\"><img src=\"https://colab.research.google.com/assets/colab-badge.svg\" alt=\"Open In Colab\"/></a>"
      ]
    },
    {
      "cell_type": "markdown",
      "id": "45ea3ef5",
      "metadata": {
        "tags": [],
        "id": "45ea3ef5"
      },
      "source": [
        "# Easy Inferencing with 🐸 TTS ⚡\n",
        "\n",
        "#### You want to quicly synthesize speech using Coqui 🐸 TTS model?\n",
        "\n",
        "💡: Grab a pre-trained model and use it to synthesize speech using any speaker voice, including yours! ⚡\n",
        "\n",
        "🐸 TTS comes with a list of pretrained models and speaker voices. You can even start a local demo server that you can open it on your favorite web browser and 🗣️ .\n",
        "\n",
        "In this notebook, we will:\n",
        "```\n",
        "1. List available pre-trained 🐸 TTS models\n",
        "2. Run a 🐸 TTS model\n",
        "3. Listen to the synthesized wave 📣\n",
        "4. Run multispeaker 🐸 TTS model\n",
        "```\n",
        "So, let's jump right in!\n"
      ]
    },
    {
      "cell_type": "markdown",
      "id": "a1e5c2a5-46eb-42fd-b550-2a052546857e",
      "metadata": {
        "id": "a1e5c2a5-46eb-42fd-b550-2a052546857e"
      },
      "source": [
        "## Install 🐸 TTS ⬇️"
      ]
    },
    {
      "cell_type": "code",
      "execution_count": 1,
      "id": "fa2aec77",
      "metadata": {
        "colab": {
          "base_uri": "https://localhost:8080/"
        },
        "id": "fa2aec77",
        "outputId": "f081cd1d-3cbf-4f55-a688-cc449cbe5aa2"
      },
      "outputs": [
        {
          "output_type": "stream",
          "name": "stdout",
          "text": [
            "/content\n",
            "fatal: destination path 'TTS' already exists and is not an empty directory.\n",
            "/content/TTS\n",
            "Collecting coqui-tts\n",
            "  Downloading coqui_tts-0.25.1-py3-none-any.whl.metadata (21 kB)\n",
            "Requirement already satisfied: anyascii>=0.3.0 in /usr/local/lib/python3.10/dist-packages (from coqui-tts) (0.3.2)\n",
            "Collecting coqpit-config<0.2.0,>=0.1.1 (from coqui-tts)\n",
            "  Downloading coqpit_config-0.1.1-py3-none-any.whl.metadata (12 kB)\n",
            "Collecting coqui-tts-trainer<0.3.0,>=0.2.0 (from coqui-tts)\n",
            "  Downloading coqui_tts_trainer-0.2.0-py3-none-any.whl.metadata (8.1 kB)\n",
            "Requirement already satisfied: cython>=3.0.0 in /usr/local/lib/python3.10/dist-packages (from coqui-tts) (3.0.11)\n",
            "Requirement already satisfied: einops>=0.6.0 in /usr/local/lib/python3.10/dist-packages (from coqui-tts) (0.8.0)\n",
            "Requirement already satisfied: encodec>=0.1.1 in /usr/local/lib/python3.10/dist-packages (from coqui-tts) (0.1.1)\n",
            "Requirement already satisfied: fsspec>=2023.6.0 in /usr/local/lib/python3.10/dist-packages (from fsspec[http]>=2023.6.0->coqui-tts) (2024.10.0)\n",
            "Collecting gruut>=2.4.0 (from gruut[de,es,fr]>=2.4.0->coqui-tts)\n",
            "  Downloading gruut-2.4.0.tar.gz (85 kB)\n",
            "\u001b[2K     \u001b[90m━━━━━━━━━━━━━━━━━━━━━━━━━━━━━━━━━━━━━━━━\u001b[0m \u001b[32m85.3/85.3 kB\u001b[0m \u001b[31m3.2 MB/s\u001b[0m eta \u001b[36m0:00:00\u001b[0m\n",
            "\u001b[?25h  Preparing metadata (setup.py) ... \u001b[?25l\u001b[?25hdone\n",
            "Requirement already satisfied: inflect>=5.6.0 in /usr/local/lib/python3.10/dist-packages (from coqui-tts) (7.4.0)\n",
            "Collecting librosa>=0.10.1 (from coqui-tts)\n",
            "  Downloading librosa-0.10.2.post1-py3-none-any.whl.metadata (8.6 kB)\n",
            "Requirement already satisfied: matplotlib>=3.7.0 in /usr/local/lib/python3.10/dist-packages (from coqui-tts) (3.8.0)\n",
            "Collecting monotonic-alignment-search>=0.1.0 (from coqui-tts)\n",
            "  Downloading monotonic_alignment_search-0.1.1-cp310-cp310-manylinux_2_17_x86_64.manylinux2014_x86_64.whl.metadata (3.6 kB)\n",
            "Requirement already satisfied: num2words>=0.5.11 in /usr/local/lib/python3.10/dist-packages (from coqui-tts) (0.5.13)\n",
            "Collecting numpy<2.0,>=1.25.2 (from coqui-tts)\n",
            "  Downloading numpy-1.26.4-cp310-cp310-manylinux_2_17_x86_64.manylinux2014_x86_64.whl.metadata (61 kB)\n",
            "\u001b[2K     \u001b[90m━━━━━━━━━━━━━━━━━━━━━━━━━━━━━━━━━━━━━━━━\u001b[0m \u001b[32m61.0/61.0 kB\u001b[0m \u001b[31m4.5 MB/s\u001b[0m eta \u001b[36m0:00:00\u001b[0m\n",
            "\u001b[?25hRequirement already satisfied: packaging>=23.1 in /usr/local/lib/python3.10/dist-packages (from coqui-tts) (24.2)\n",
            "Requirement already satisfied: pysbd>=0.3.4 in /usr/local/lib/python3.10/dist-packages (from coqui-tts) (0.3.4)\n",
            "Requirement already satisfied: pyyaml>=6.0 in /usr/local/lib/python3.10/dist-packages (from coqui-tts) (6.0.2)\n",
            "Requirement already satisfied: scipy>=1.11.2 in /usr/local/lib/python3.10/dist-packages (from coqui-tts) (1.11.4)\n",
            "Requirement already satisfied: soundfile>=0.12.0 in /usr/local/lib/python3.10/dist-packages (from coqui-tts) (0.12.1)\n",
            "Requirement already satisfied: spacy<3.8,>=3 in /usr/local/lib/python3.10/dist-packages (from spacy[ja]<3.8,>=3->coqui-tts) (3.7.5)\n",
            "Requirement already satisfied: torch>=2.1 in /usr/local/lib/python3.10/dist-packages (from coqui-tts) (2.5.1+cu121)\n",
            "Requirement already satisfied: torchaudio>=2.1.0 in /usr/local/lib/python3.10/dist-packages (from coqui-tts) (2.5.1+cu121)\n",
            "Requirement already satisfied: tqdm>=4.64.1 in /usr/local/lib/python3.10/dist-packages (from coqui-tts) (4.66.6)\n",
            "Collecting transformers<=4.46.2,>=4.43.0 (from coqui-tts)\n",
            "  Downloading transformers-4.46.2-py3-none-any.whl.metadata (44 kB)\n",
            "\u001b[2K     \u001b[90m━━━━━━━━━━━━━━━━━━━━━━━━━━━━━━━━━━━━━━━━\u001b[0m \u001b[32m44.1/44.1 kB\u001b[0m \u001b[31m3.4 MB/s\u001b[0m eta \u001b[36m0:00:00\u001b[0m\n",
            "\u001b[?25hRequirement already satisfied: typing-extensions>=4.10 in /usr/local/lib/python3.10/dist-packages (from coqpit-config<0.2.0,>=0.1.1->coqui-tts) (4.12.2)\n",
            "Requirement already satisfied: psutil>=5 in /usr/local/lib/python3.10/dist-packages (from coqui-tts-trainer<0.3.0,>=0.2.0->coqui-tts) (5.9.5)\n",
            "Requirement already satisfied: tensorboard>=2.17.0 in /usr/local/lib/python3.10/dist-packages (from coqui-tts-trainer<0.3.0,>=0.2.0->coqui-tts) (2.17.1)\n",
            "Requirement already satisfied: aiohttp!=4.0.0a0,!=4.0.0a1 in /usr/local/lib/python3.10/dist-packages (from fsspec[http]>=2023.6.0->coqui-tts) (3.11.10)\n",
            "Requirement already satisfied: Babel<3.0.0,>=2.8.0 in /usr/local/lib/python3.10/dist-packages (from gruut>=2.4.0->gruut[de,es,fr]>=2.4.0->coqui-tts) (2.16.0)\n",
            "Requirement already satisfied: dateparser~=1.1.1 in /usr/local/lib/python3.10/dist-packages (from gruut>=2.4.0->gruut[de,es,fr]>=2.4.0->coqui-tts) (1.1.8)\n",
            "Requirement already satisfied: gruut-ipa<1.0,>=0.12.0 in /usr/local/lib/python3.10/dist-packages (from gruut>=2.4.0->gruut[de,es,fr]>=2.4.0->coqui-tts) (0.13.0)\n",
            "Requirement already satisfied: gruut_lang_en~=2.0.0 in /usr/local/lib/python3.10/dist-packages (from gruut>=2.4.0->gruut[de,es,fr]>=2.4.0->coqui-tts) (2.0.1)\n",
            "Requirement already satisfied: jsonlines~=1.2.0 in /usr/local/lib/python3.10/dist-packages (from gruut>=2.4.0->gruut[de,es,fr]>=2.4.0->coqui-tts) (1.2.0)\n",
            "Requirement already satisfied: networkx>=2.5.0 in /usr/local/lib/python3.10/dist-packages (from gruut>=2.4.0->gruut[de,es,fr]>=2.4.0->coqui-tts) (2.8.8)\n",
            "Requirement already satisfied: python-crfsuite~=0.9.7 in /usr/local/lib/python3.10/dist-packages (from gruut>=2.4.0->gruut[de,es,fr]>=2.4.0->coqui-tts) (0.9.11)\n",
            "Requirement already satisfied: gruut_lang_de~=2.0.0 in /usr/local/lib/python3.10/dist-packages (from gruut[de,es,fr]>=2.4.0->coqui-tts) (2.0.1)\n",
            "Requirement already satisfied: gruut_lang_fr~=2.0.0 in /usr/local/lib/python3.10/dist-packages (from gruut[de,es,fr]>=2.4.0->coqui-tts) (2.0.2)\n",
            "Requirement already satisfied: gruut_lang_es~=2.0.0 in /usr/local/lib/python3.10/dist-packages (from gruut[de,es,fr]>=2.4.0->coqui-tts) (2.0.1)\n",
            "Requirement already satisfied: more-itertools>=8.5.0 in /usr/local/lib/python3.10/dist-packages (from inflect>=5.6.0->coqui-tts) (10.5.0)\n",
            "Requirement already satisfied: typeguard>=4.0.1 in /usr/local/lib/python3.10/dist-packages (from inflect>=5.6.0->coqui-tts) (4.4.1)\n",
            "Requirement already satisfied: audioread>=2.1.9 in /usr/local/lib/python3.10/dist-packages (from librosa>=0.10.1->coqui-tts) (3.0.1)\n",
            "Requirement already satisfied: scikit-learn>=0.20.0 in /usr/local/lib/python3.10/dist-packages (from librosa>=0.10.1->coqui-tts) (1.5.2)\n",
            "Requirement already satisfied: joblib>=0.14 in /usr/local/lib/python3.10/dist-packages (from librosa>=0.10.1->coqui-tts) (1.4.2)\n",
            "Requirement already satisfied: decorator>=4.3.0 in /usr/local/lib/python3.10/dist-packages (from librosa>=0.10.1->coqui-tts) (4.4.2)\n",
            "Requirement already satisfied: numba>=0.51.0 in /usr/local/lib/python3.10/dist-packages (from librosa>=0.10.1->coqui-tts) (0.60.0)\n",
            "Requirement already satisfied: pooch>=1.1 in /usr/local/lib/python3.10/dist-packages (from librosa>=0.10.1->coqui-tts) (1.8.2)\n",
            "Requirement already satisfied: soxr>=0.3.2 in /usr/local/lib/python3.10/dist-packages (from librosa>=0.10.1->coqui-tts) (0.5.0.post1)\n",
            "Requirement already satisfied: lazy-loader>=0.1 in /usr/local/lib/python3.10/dist-packages (from librosa>=0.10.1->coqui-tts) (0.4)\n",
            "Requirement already satisfied: msgpack>=1.0 in /usr/local/lib/python3.10/dist-packages (from librosa>=0.10.1->coqui-tts) (1.1.0)\n",
            "Requirement already satisfied: contourpy>=1.0.1 in /usr/local/lib/python3.10/dist-packages (from matplotlib>=3.7.0->coqui-tts) (1.2.1)\n",
            "Requirement already satisfied: cycler>=0.10 in /usr/local/lib/python3.10/dist-packages (from matplotlib>=3.7.0->coqui-tts) (0.12.1)\n",
            "Requirement already satisfied: fonttools>=4.22.0 in /usr/local/lib/python3.10/dist-packages (from matplotlib>=3.7.0->coqui-tts) (4.55.3)\n",
            "Requirement already satisfied: kiwisolver>=1.0.1 in /usr/local/lib/python3.10/dist-packages (from matplotlib>=3.7.0->coqui-tts) (1.4.7)\n",
            "Requirement already satisfied: pillow>=6.2.0 in /usr/local/lib/python3.10/dist-packages (from matplotlib>=3.7.0->coqui-tts) (11.0.0)\n",
            "Requirement already satisfied: pyparsing>=2.3.1 in /usr/local/lib/python3.10/dist-packages (from matplotlib>=3.7.0->coqui-tts) (3.2.0)\n",
            "Requirement already satisfied: python-dateutil>=2.7 in /usr/local/lib/python3.10/dist-packages (from matplotlib>=3.7.0->coqui-tts) (2.8.2)\n",
            "Requirement already satisfied: docopt>=0.6.2 in /usr/local/lib/python3.10/dist-packages (from num2words>=0.5.11->coqui-tts) (0.6.2)\n",
            "Requirement already satisfied: cffi>=1.0 in /usr/local/lib/python3.10/dist-packages (from soundfile>=0.12.0->coqui-tts) (1.17.1)\n",
            "Requirement already satisfied: spacy-legacy<3.1.0,>=3.0.11 in /usr/local/lib/python3.10/dist-packages (from spacy<3.8,>=3->spacy[ja]<3.8,>=3->coqui-tts) (3.0.12)\n",
            "Requirement already satisfied: spacy-loggers<2.0.0,>=1.0.0 in /usr/local/lib/python3.10/dist-packages (from spacy<3.8,>=3->spacy[ja]<3.8,>=3->coqui-tts) (1.0.5)\n",
            "Requirement already satisfied: murmurhash<1.1.0,>=0.28.0 in /usr/local/lib/python3.10/dist-packages (from spacy<3.8,>=3->spacy[ja]<3.8,>=3->coqui-tts) (1.0.11)\n",
            "Requirement already satisfied: cymem<2.1.0,>=2.0.2 in /usr/local/lib/python3.10/dist-packages (from spacy<3.8,>=3->spacy[ja]<3.8,>=3->coqui-tts) (2.0.10)\n",
            "Requirement already satisfied: preshed<3.1.0,>=3.0.2 in /usr/local/lib/python3.10/dist-packages (from spacy<3.8,>=3->spacy[ja]<3.8,>=3->coqui-tts) (3.0.9)\n",
            "Requirement already satisfied: thinc<8.3.0,>=8.2.2 in /usr/local/lib/python3.10/dist-packages (from spacy<3.8,>=3->spacy[ja]<3.8,>=3->coqui-tts) (8.2.5)\n",
            "Requirement already satisfied: wasabi<1.2.0,>=0.9.1 in /usr/local/lib/python3.10/dist-packages (from spacy<3.8,>=3->spacy[ja]<3.8,>=3->coqui-tts) (1.1.3)\n",
            "Requirement already satisfied: srsly<3.0.0,>=2.4.3 in /usr/local/lib/python3.10/dist-packages (from spacy<3.8,>=3->spacy[ja]<3.8,>=3->coqui-tts) (2.5.0)\n",
            "Requirement already satisfied: catalogue<2.1.0,>=2.0.6 in /usr/local/lib/python3.10/dist-packages (from spacy<3.8,>=3->spacy[ja]<3.8,>=3->coqui-tts) (2.0.10)\n",
            "Requirement already satisfied: weasel<0.5.0,>=0.1.0 in /usr/local/lib/python3.10/dist-packages (from spacy<3.8,>=3->spacy[ja]<3.8,>=3->coqui-tts) (0.4.1)\n",
            "Requirement already satisfied: typer<1.0.0,>=0.3.0 in /usr/local/lib/python3.10/dist-packages (from spacy<3.8,>=3->spacy[ja]<3.8,>=3->coqui-tts) (0.15.1)\n",
            "Requirement already satisfied: requests<3.0.0,>=2.13.0 in /usr/local/lib/python3.10/dist-packages (from spacy<3.8,>=3->spacy[ja]<3.8,>=3->coqui-tts) (2.32.3)\n",
            "Requirement already satisfied: pydantic!=1.8,!=1.8.1,<3.0.0,>=1.7.4 in /usr/local/lib/python3.10/dist-packages (from spacy<3.8,>=3->spacy[ja]<3.8,>=3->coqui-tts) (2.10.3)\n",
            "Requirement already satisfied: jinja2 in /usr/local/lib/python3.10/dist-packages (from spacy<3.8,>=3->spacy[ja]<3.8,>=3->coqui-tts) (3.1.4)\n",
            "Requirement already satisfied: setuptools in /usr/local/lib/python3.10/dist-packages (from spacy<3.8,>=3->spacy[ja]<3.8,>=3->coqui-tts) (75.1.0)\n",
            "Requirement already satisfied: langcodes<4.0.0,>=3.2.0 in /usr/local/lib/python3.10/dist-packages (from spacy<3.8,>=3->spacy[ja]<3.8,>=3->coqui-tts) (3.5.0)\n",
            "Requirement already satisfied: sudachipy!=0.6.1,>=0.5.2 in /usr/local/lib/python3.10/dist-packages (from spacy[ja]<3.8,>=3->coqui-tts) (0.6.9)\n",
            "Requirement already satisfied: sudachidict-core>=20211220 in /usr/local/lib/python3.10/dist-packages (from spacy[ja]<3.8,>=3->coqui-tts) (20241021)\n",
            "Requirement already satisfied: filelock in /usr/local/lib/python3.10/dist-packages (from torch>=2.1->coqui-tts) (3.16.1)\n",
            "Requirement already satisfied: sympy==1.13.1 in /usr/local/lib/python3.10/dist-packages (from torch>=2.1->coqui-tts) (1.13.1)\n",
            "Requirement already satisfied: mpmath<1.4,>=1.1.0 in /usr/local/lib/python3.10/dist-packages (from sympy==1.13.1->torch>=2.1->coqui-tts) (1.3.0)\n",
            "Requirement already satisfied: huggingface-hub<1.0,>=0.23.2 in /usr/local/lib/python3.10/dist-packages (from transformers<=4.46.2,>=4.43.0->coqui-tts) (0.26.5)\n",
            "Requirement already satisfied: regex!=2019.12.17 in /usr/local/lib/python3.10/dist-packages (from transformers<=4.46.2,>=4.43.0->coqui-tts) (2024.9.11)\n",
            "Requirement already satisfied: safetensors>=0.4.1 in /usr/local/lib/python3.10/dist-packages (from transformers<=4.46.2,>=4.43.0->coqui-tts) (0.4.5)\n",
            "Requirement already satisfied: tokenizers<0.21,>=0.20 in /usr/local/lib/python3.10/dist-packages (from transformers<=4.46.2,>=4.43.0->coqui-tts) (0.20.3)\n",
            "Requirement already satisfied: aiohappyeyeballs>=2.3.0 in /usr/local/lib/python3.10/dist-packages (from aiohttp!=4.0.0a0,!=4.0.0a1->fsspec[http]>=2023.6.0->coqui-tts) (2.4.4)\n",
            "Requirement already satisfied: aiosignal>=1.1.2 in /usr/local/lib/python3.10/dist-packages (from aiohttp!=4.0.0a0,!=4.0.0a1->fsspec[http]>=2023.6.0->coqui-tts) (1.3.1)\n",
            "Requirement already satisfied: async-timeout<6.0,>=4.0 in /usr/local/lib/python3.10/dist-packages (from aiohttp!=4.0.0a0,!=4.0.0a1->fsspec[http]>=2023.6.0->coqui-tts) (4.0.3)\n",
            "Requirement already satisfied: attrs>=17.3.0 in /usr/local/lib/python3.10/dist-packages (from aiohttp!=4.0.0a0,!=4.0.0a1->fsspec[http]>=2023.6.0->coqui-tts) (24.2.0)\n",
            "Requirement already satisfied: frozenlist>=1.1.1 in /usr/local/lib/python3.10/dist-packages (from aiohttp!=4.0.0a0,!=4.0.0a1->fsspec[http]>=2023.6.0->coqui-tts) (1.5.0)\n",
            "Requirement already satisfied: multidict<7.0,>=4.5 in /usr/local/lib/python3.10/dist-packages (from aiohttp!=4.0.0a0,!=4.0.0a1->fsspec[http]>=2023.6.0->coqui-tts) (6.1.0)\n",
            "Requirement already satisfied: propcache>=0.2.0 in /usr/local/lib/python3.10/dist-packages (from aiohttp!=4.0.0a0,!=4.0.0a1->fsspec[http]>=2023.6.0->coqui-tts) (0.2.1)\n",
            "Requirement already satisfied: yarl<2.0,>=1.17.0 in /usr/local/lib/python3.10/dist-packages (from aiohttp!=4.0.0a0,!=4.0.0a1->fsspec[http]>=2023.6.0->coqui-tts) (1.18.3)\n",
            "Requirement already satisfied: pycparser in /usr/local/lib/python3.10/dist-packages (from cffi>=1.0->soundfile>=0.12.0->coqui-tts) (2.22)\n",
            "Requirement already satisfied: pytz in /usr/local/lib/python3.10/dist-packages (from dateparser~=1.1.1->gruut>=2.4.0->gruut[de,es,fr]>=2.4.0->coqui-tts) (2024.2)\n",
            "Requirement already satisfied: tzlocal in /usr/local/lib/python3.10/dist-packages (from dateparser~=1.1.1->gruut>=2.4.0->gruut[de,es,fr]>=2.4.0->coqui-tts) (5.2)\n",
            "Requirement already satisfied: six in /usr/local/lib/python3.10/dist-packages (from jsonlines~=1.2.0->gruut>=2.4.0->gruut[de,es,fr]>=2.4.0->coqui-tts) (1.17.0)\n",
            "Requirement already satisfied: language-data>=1.2 in /usr/local/lib/python3.10/dist-packages (from langcodes<4.0.0,>=3.2.0->spacy<3.8,>=3->spacy[ja]<3.8,>=3->coqui-tts) (1.3.0)\n",
            "Requirement already satisfied: llvmlite<0.44,>=0.43.0dev0 in /usr/local/lib/python3.10/dist-packages (from numba>=0.51.0->librosa>=0.10.1->coqui-tts) (0.43.0)\n",
            "Requirement already satisfied: platformdirs>=2.5.0 in /usr/local/lib/python3.10/dist-packages (from pooch>=1.1->librosa>=0.10.1->coqui-tts) (4.3.6)\n",
            "Requirement already satisfied: annotated-types>=0.6.0 in /usr/local/lib/python3.10/dist-packages (from pydantic!=1.8,!=1.8.1,<3.0.0,>=1.7.4->spacy<3.8,>=3->spacy[ja]<3.8,>=3->coqui-tts) (0.7.0)\n",
            "Requirement already satisfied: pydantic-core==2.27.1 in /usr/local/lib/python3.10/dist-packages (from pydantic!=1.8,!=1.8.1,<3.0.0,>=1.7.4->spacy<3.8,>=3->spacy[ja]<3.8,>=3->coqui-tts) (2.27.1)\n",
            "Requirement already satisfied: charset-normalizer<4,>=2 in /usr/local/lib/python3.10/dist-packages (from requests<3.0.0,>=2.13.0->spacy<3.8,>=3->spacy[ja]<3.8,>=3->coqui-tts) (3.4.0)\n",
            "Requirement already satisfied: idna<4,>=2.5 in /usr/local/lib/python3.10/dist-packages (from requests<3.0.0,>=2.13.0->spacy<3.8,>=3->spacy[ja]<3.8,>=3->coqui-tts) (3.10)\n",
            "Requirement already satisfied: urllib3<3,>=1.21.1 in /usr/local/lib/python3.10/dist-packages (from requests<3.0.0,>=2.13.0->spacy<3.8,>=3->spacy[ja]<3.8,>=3->coqui-tts) (2.2.3)\n",
            "Requirement already satisfied: certifi>=2017.4.17 in /usr/local/lib/python3.10/dist-packages (from requests<3.0.0,>=2.13.0->spacy<3.8,>=3->spacy[ja]<3.8,>=3->coqui-tts) (2024.8.30)\n",
            "Requirement already satisfied: threadpoolctl>=3.1.0 in /usr/local/lib/python3.10/dist-packages (from scikit-learn>=0.20.0->librosa>=0.10.1->coqui-tts) (3.5.0)\n",
            "Requirement already satisfied: absl-py>=0.4 in /usr/local/lib/python3.10/dist-packages (from tensorboard>=2.17.0->coqui-tts-trainer<0.3.0,>=0.2.0->coqui-tts) (1.4.0)\n",
            "Requirement already satisfied: grpcio>=1.48.2 in /usr/local/lib/python3.10/dist-packages (from tensorboard>=2.17.0->coqui-tts-trainer<0.3.0,>=0.2.0->coqui-tts) (1.68.1)\n",
            "Requirement already satisfied: markdown>=2.6.8 in /usr/local/lib/python3.10/dist-packages (from tensorboard>=2.17.0->coqui-tts-trainer<0.3.0,>=0.2.0->coqui-tts) (3.7)\n",
            "Requirement already satisfied: protobuf!=4.24.0,>=3.19.6 in /usr/local/lib/python3.10/dist-packages (from tensorboard>=2.17.0->coqui-tts-trainer<0.3.0,>=0.2.0->coqui-tts) (4.25.5)\n",
            "Requirement already satisfied: tensorboard-data-server<0.8.0,>=0.7.0 in /usr/local/lib/python3.10/dist-packages (from tensorboard>=2.17.0->coqui-tts-trainer<0.3.0,>=0.2.0->coqui-tts) (0.7.2)\n",
            "Requirement already satisfied: werkzeug>=1.0.1 in /usr/local/lib/python3.10/dist-packages (from tensorboard>=2.17.0->coqui-tts-trainer<0.3.0,>=0.2.0->coqui-tts) (3.1.3)\n",
            "Requirement already satisfied: blis<0.8.0,>=0.7.8 in /usr/local/lib/python3.10/dist-packages (from thinc<8.3.0,>=8.2.2->spacy<3.8,>=3->spacy[ja]<3.8,>=3->coqui-tts) (0.7.11)\n",
            "Requirement already satisfied: confection<1.0.0,>=0.0.1 in /usr/local/lib/python3.10/dist-packages (from thinc<8.3.0,>=8.2.2->spacy<3.8,>=3->spacy[ja]<3.8,>=3->coqui-tts) (0.1.5)\n",
            "Requirement already satisfied: click>=8.0.0 in /usr/local/lib/python3.10/dist-packages (from typer<1.0.0,>=0.3.0->spacy<3.8,>=3->spacy[ja]<3.8,>=3->coqui-tts) (8.1.7)\n",
            "Requirement already satisfied: shellingham>=1.3.0 in /usr/local/lib/python3.10/dist-packages (from typer<1.0.0,>=0.3.0->spacy<3.8,>=3->spacy[ja]<3.8,>=3->coqui-tts) (1.5.4)\n",
            "Requirement already satisfied: rich>=10.11.0 in /usr/local/lib/python3.10/dist-packages (from typer<1.0.0,>=0.3.0->spacy<3.8,>=3->spacy[ja]<3.8,>=3->coqui-tts) (13.9.4)\n",
            "Requirement already satisfied: cloudpathlib<1.0.0,>=0.7.0 in /usr/local/lib/python3.10/dist-packages (from weasel<0.5.0,>=0.1.0->spacy<3.8,>=3->spacy[ja]<3.8,>=3->coqui-tts) (0.20.0)\n",
            "Requirement already satisfied: smart-open<8.0.0,>=5.2.1 in /usr/local/lib/python3.10/dist-packages (from weasel<0.5.0,>=0.1.0->spacy<3.8,>=3->spacy[ja]<3.8,>=3->coqui-tts) (7.0.5)\n",
            "Requirement already satisfied: MarkupSafe>=2.0 in /usr/local/lib/python3.10/dist-packages (from jinja2->spacy<3.8,>=3->spacy[ja]<3.8,>=3->coqui-tts) (3.0.2)\n",
            "Requirement already satisfied: marisa-trie>=1.1.0 in /usr/local/lib/python3.10/dist-packages (from language-data>=1.2->langcodes<4.0.0,>=3.2.0->spacy<3.8,>=3->spacy[ja]<3.8,>=3->coqui-tts) (1.2.1)\n",
            "Requirement already satisfied: markdown-it-py>=2.2.0 in /usr/local/lib/python3.10/dist-packages (from rich>=10.11.0->typer<1.0.0,>=0.3.0->spacy<3.8,>=3->spacy[ja]<3.8,>=3->coqui-tts) (3.0.0)\n",
            "Requirement already satisfied: pygments<3.0.0,>=2.13.0 in /usr/local/lib/python3.10/dist-packages (from rich>=10.11.0->typer<1.0.0,>=0.3.0->spacy<3.8,>=3->spacy[ja]<3.8,>=3->coqui-tts) (2.18.0)\n",
            "Requirement already satisfied: wrapt in /usr/local/lib/python3.10/dist-packages (from smart-open<8.0.0,>=5.2.1->weasel<0.5.0,>=0.1.0->spacy<3.8,>=3->spacy[ja]<3.8,>=3->coqui-tts) (1.17.0)\n",
            "Requirement already satisfied: mdurl~=0.1 in /usr/local/lib/python3.10/dist-packages (from markdown-it-py>=2.2.0->rich>=10.11.0->typer<1.0.0,>=0.3.0->spacy<3.8,>=3->spacy[ja]<3.8,>=3->coqui-tts) (0.1.2)\n",
            "Downloading coqui_tts-0.25.1-py3-none-any.whl (859 kB)\n",
            "\u001b[2K   \u001b[90m━━━━━━━━━━━━━━━━━━━━━━━━━━━━━━━━━━━━━━━━\u001b[0m \u001b[32m859.3/859.3 kB\u001b[0m \u001b[31m16.7 MB/s\u001b[0m eta \u001b[36m0:00:00\u001b[0m\n",
            "\u001b[?25hDownloading coqpit_config-0.1.1-py3-none-any.whl (14 kB)\n",
            "Downloading coqui_tts_trainer-0.2.0-py3-none-any.whl (57 kB)\n",
            "\u001b[2K   \u001b[90m━━━━━━━━━━━━━━━━━━━━━━━━━━━━━━━━━━━━━━━━\u001b[0m \u001b[32m57.0/57.0 kB\u001b[0m \u001b[31m4.4 MB/s\u001b[0m eta \u001b[36m0:00:00\u001b[0m\n",
            "\u001b[?25hDownloading librosa-0.10.2.post1-py3-none-any.whl (260 kB)\n",
            "\u001b[2K   \u001b[90m━━━━━━━━━━━━━━━━━━━━━━━━━━━━━━━━━━━━━━━━\u001b[0m \u001b[32m260.1/260.1 kB\u001b[0m \u001b[31m21.1 MB/s\u001b[0m eta \u001b[36m0:00:00\u001b[0m\n",
            "\u001b[?25hDownloading monotonic_alignment_search-0.1.1-cp310-cp310-manylinux_2_17_x86_64.manylinux2014_x86_64.whl (577 kB)\n",
            "\u001b[2K   \u001b[90m━━━━━━━━━━━━━━━━━━━━━━━━━━━━━━━━━━━━━━━━\u001b[0m \u001b[32m577.9/577.9 kB\u001b[0m \u001b[31m32.2 MB/s\u001b[0m eta \u001b[36m0:00:00\u001b[0m\n",
            "\u001b[?25hDownloading numpy-1.26.4-cp310-cp310-manylinux_2_17_x86_64.manylinux2014_x86_64.whl (18.2 MB)\n",
            "\u001b[2K   \u001b[90m━━━━━━━━━━━━━━━━━━━━━━━━━━━━━━━━━━━━━━━━\u001b[0m \u001b[32m18.2/18.2 MB\u001b[0m \u001b[31m75.0 MB/s\u001b[0m eta \u001b[36m0:00:00\u001b[0m\n",
            "\u001b[?25hDownloading transformers-4.46.2-py3-none-any.whl (10.0 MB)\n",
            "\u001b[2K   \u001b[90m━━━━━━━━━━━━━━━━━━━━━━━━━━━━━━━━━━━━━━━━\u001b[0m \u001b[32m10.0/10.0 MB\u001b[0m \u001b[31m95.2 MB/s\u001b[0m eta \u001b[36m0:00:00\u001b[0m\n",
            "\u001b[?25hBuilding wheels for collected packages: gruut\n",
            "  Building wheel for gruut (setup.py) ... \u001b[?25l\u001b[?25hdone\n",
            "  Created wheel for gruut: filename=gruut-2.4.0-py3-none-any.whl size=86758 sha256=f5dc66b5f708ef0ada249ba4c1029c7389ba2195bbb66d556a5d295fd61f91fa\n",
            "  Stored in directory: /root/.cache/pip/wheels/1c/4f/07/ab1704730dc65b8489d36d2c103532c9bec6b6acb781a59256\n",
            "Successfully built gruut\n",
            "Installing collected packages: numpy, coqpit-config, monotonic-alignment-search, gruut, coqui-tts-trainer, transformers, librosa, coqui-tts\n",
            "  Attempting uninstall: numpy\n",
            "    Found existing installation: numpy 1.22.0\n",
            "    Uninstalling numpy-1.22.0:\n",
            "      Successfully uninstalled numpy-1.22.0\n",
            "  Attempting uninstall: gruut\n",
            "    Found existing installation: gruut 2.2.3\n",
            "    Uninstalling gruut-2.2.3:\n",
            "      Successfully uninstalled gruut-2.2.3\n",
            "  Attempting uninstall: transformers\n",
            "    Found existing installation: transformers 4.46.3\n",
            "    Uninstalling transformers-4.46.3:\n",
            "      Successfully uninstalled transformers-4.46.3\n",
            "  Attempting uninstall: librosa\n",
            "    Found existing installation: librosa 0.10.0\n",
            "    Uninstalling librosa-0.10.0:\n",
            "      Successfully uninstalled librosa-0.10.0\n",
            "\u001b[31mERROR: pip's dependency resolver does not currently take into account all the packages that are installed. This behaviour is the source of the following dependency conflicts.\n",
            "cudf-cu12 24.10.1 requires pandas<2.2.3dev0,>=2.0, but you have pandas 1.5.3 which is incompatible.\n",
            "mizani 0.13.1 requires pandas>=2.2.0, but you have pandas 1.5.3 which is incompatible.\n",
            "nx-cugraph-cu12 24.10.0 requires networkx>=3.0, but you have networkx 2.8.8 which is incompatible.\n",
            "plotnine 0.14.3 requires pandas>=2.2.0, but you have pandas 1.5.3 which is incompatible.\n",
            "xarray 2024.10.0 requires pandas>=2.1, but you have pandas 1.5.3 which is incompatible.\u001b[0m\u001b[31m\n",
            "\u001b[0mSuccessfully installed coqpit-config-0.1.1 coqui-tts-0.25.1 coqui-tts-trainer-0.2.0 gruut-2.4.0 librosa-0.10.2.post1 monotonic-alignment-search-0.1.1 numpy-1.26.4 transformers-4.46.2\n"
          ]
        }
      ],
      "source": [
        "%cd '/content'\n",
        "!git clone https://github.com/coqui-ai/TTS\n",
        "%cd '/content/TTS'\n",
        "# ! pip install -U pip\n",
        "%pip install coqui-tts"
      ]
    },
    {
      "cell_type": "code",
      "source": [
        "!pip install -r requirements.txt"
      ],
      "metadata": {
        "id": "gbwqj1RNtpGK"
      },
      "id": "gbwqj1RNtpGK",
      "execution_count": null,
      "outputs": []
    },
    {
      "cell_type": "markdown",
      "id": "8c07a273",
      "metadata": {
        "id": "8c07a273"
      },
      "source": [
        "## ✅ List available pre-trained 🐸 TTS models\n",
        "\n",
        "Coqui 🐸TTS comes with a list of pretrained models for different model types (ex: TTS, vocoder), languages, datasets used for training and architectures.\n",
        "\n",
        "You can either use your own model or the release models under 🐸TTS.\n",
        "\n",
        "Use `tts --list_models` to find out the availble models.\n",
        "\n"
      ]
    },
    {
      "cell_type": "code",
      "execution_count": 2,
      "id": "608d203f",
      "metadata": {
        "colab": {
          "base_uri": "https://localhost:8080/"
        },
        "id": "608d203f",
        "outputId": "ba1a3269-278e-4257-dfc5-14682917fdc3"
      },
      "outputs": [
        {
          "output_type": "stream",
          "name": "stdout",
          "text": [
            "2024-12-14 01:14:28.312140: E external/local_xla/xla/stream_executor/cuda/cuda_fft.cc:485] Unable to register cuFFT factory: Attempting to register factory for plugin cuFFT when one has already been registered\n",
            "2024-12-14 01:14:28.336994: E external/local_xla/xla/stream_executor/cuda/cuda_dnn.cc:8454] Unable to register cuDNN factory: Attempting to register factory for plugin cuDNN when one has already been registered\n",
            "2024-12-14 01:14:28.344999: E external/local_xla/xla/stream_executor/cuda/cuda_blas.cc:1452] Unable to register cuBLAS factory: Attempting to register factory for plugin cuBLAS when one has already been registered\n",
            "2024-12-14 01:14:28.361930: I tensorflow/core/platform/cpu_feature_guard.cc:210] This TensorFlow binary is optimized to use available CPU instructions in performance-critical operations.\n",
            "To enable the following instructions: AVX2 FMA, in other operations, rebuild TensorFlow with the appropriate compiler flags.\n",
            "2024-12-14 01:14:29.716068: W tensorflow/compiler/tf2tensorrt/utils/py_utils.cc:38] TF-TRT Warning: Could not find TensorRT\n",
            "\n",
            "Name format: type/language/dataset/model\n",
            "  1: tts_models/multilingual/multi-dataset/xtts_v2\n",
            "  2: tts_models/multilingual/multi-dataset/xtts_v1.1\n",
            "  3: tts_models/multilingual/multi-dataset/your_tts\n",
            "  4: tts_models/multilingual/multi-dataset/bark\n",
            "  5: tts_models/bg/cv/vits\n",
            "  6: tts_models/cs/cv/vits\n",
            "  7: tts_models/da/cv/vits\n",
            "  8: tts_models/et/cv/vits\n",
            "  9: tts_models/ga/cv/vits\n",
            " 10: tts_models/en/ek1/tacotron2\n",
            " 11: tts_models/en/ljspeech/tacotron2-DDC\n",
            " 12: tts_models/en/ljspeech/tacotron2-DDC_ph\n",
            " 13: tts_models/en/ljspeech/glow-tts\n",
            " 14: tts_models/en/ljspeech/speedy-speech\n",
            " 15: tts_models/en/ljspeech/tacotron2-DCA\n",
            " 16: tts_models/en/ljspeech/vits\n",
            " 17: tts_models/en/ljspeech/vits--neon\n",
            " 18: tts_models/en/ljspeech/fast_pitch\n",
            " 19: tts_models/en/ljspeech/overflow\n",
            " 20: tts_models/en/ljspeech/neural_hmm\n",
            " 21: tts_models/en/vctk/vits\n",
            " 22: tts_models/en/vctk/fast_pitch\n",
            " 23: tts_models/en/sam/tacotron-DDC\n",
            " 24: tts_models/en/blizzard2013/capacitron-t2-c50\n",
            " 25: tts_models/en/blizzard2013/capacitron-t2-c150_v2\n",
            " 26: tts_models/en/multi-dataset/tortoise-v2\n",
            " 27: tts_models/en/jenny/jenny\n",
            " 28: tts_models/es/mai/tacotron2-DDC\n",
            " 29: tts_models/es/css10/vits\n",
            " 30: tts_models/fr/mai/tacotron2-DDC\n",
            " 31: tts_models/fr/css10/vits\n",
            " 32: tts_models/uk/mai/glow-tts\n",
            " 33: tts_models/uk/mai/vits\n",
            " 34: tts_models/zh-CN/baker/tacotron2-DDC-GST\n",
            " 35: tts_models/nl/mai/tacotron2-DDC\n",
            " 36: tts_models/nl/css10/vits\n",
            " 37: tts_models/de/thorsten/tacotron2-DCA\n",
            " 38: tts_models/de/thorsten/vits\n",
            " 39: tts_models/de/thorsten/tacotron2-DDC\n",
            " 40: tts_models/de/css10/vits-neon\n",
            " 41: tts_models/ja/kokoro/tacotron2-DDC\n",
            " 42: tts_models/tr/common-voice/glow-tts\n",
            " 43: tts_models/it/mai_female/glow-tts\n",
            " 44: tts_models/it/mai_female/vits\n",
            " 45: tts_models/it/mai_male/glow-tts\n",
            " 46: tts_models/it/mai_male/vits\n",
            " 47: tts_models/ewe/openbible/vits\n",
            " 48: tts_models/hau/openbible/vits\n",
            " 49: tts_models/lin/openbible/vits\n",
            " 50: tts_models/tw_akuapem/openbible/vits\n",
            " 51: tts_models/tw_asante/openbible/vits\n",
            " 52: tts_models/yor/openbible/vits\n",
            " 53: tts_models/hu/css10/vits\n",
            " 54: tts_models/el/cv/vits\n",
            " 55: tts_models/fi/css10/vits\n",
            " 56: tts_models/hr/cv/vits\n",
            " 57: tts_models/lt/cv/vits\n",
            " 58: tts_models/lv/cv/vits\n",
            " 59: tts_models/mt/cv/vits\n",
            " 60: tts_models/pl/mai_female/vits\n",
            " 61: tts_models/pt/cv/vits\n",
            " 62: tts_models/ro/cv/vits\n",
            " 63: tts_models/sk/cv/vits\n",
            " 64: tts_models/sl/cv/vits\n",
            " 65: tts_models/sv/cv/vits\n",
            " 66: tts_models/ca/custom/vits\n",
            " 67: tts_models/fa/custom/glow-tts\n",
            " 68: tts_models/bn/custom/vits-male\n",
            " 69: tts_models/bn/custom/vits-female\n",
            " 70: tts_models/be/common-voice/glow-tts\n",
            "\n",
            "Name format: type/language/dataset/model\n",
            "  1: vocoder_models/universal/libri-tts/wavegrad\n",
            "  2: vocoder_models/universal/libri-tts/fullband-melgan\n",
            "  3: vocoder_models/en/ek1/wavegrad\n",
            "  4: vocoder_models/en/ljspeech/multiband-melgan\n",
            "  5: vocoder_models/en/ljspeech/hifigan_v2\n",
            "  6: vocoder_models/en/ljspeech/univnet\n",
            "  7: vocoder_models/en/blizzard2013/hifigan_v2\n",
            "  8: vocoder_models/en/vctk/hifigan_v2\n",
            "  9: vocoder_models/en/sam/hifigan_v2\n",
            " 10: vocoder_models/nl/mai/parallel-wavegan\n",
            " 11: vocoder_models/de/thorsten/wavegrad\n",
            " 12: vocoder_models/de/thorsten/fullband-melgan\n",
            " 13: vocoder_models/de/thorsten/hifigan_v1\n",
            " 14: vocoder_models/ja/kokoro/hifigan_v1\n",
            " 15: vocoder_models/uk/mai/multiband-melgan\n",
            " 16: vocoder_models/tr/common-voice/hifigan\n",
            " 17: vocoder_models/be/common-voice/hifigan\n",
            "\n",
            "Name format: type/language/dataset/model\n",
            "  1: voice_conversion_models/multilingual/vctk/freevc24\n",
            "  2: voice_conversion_models/multilingual/multi-dataset/openvoice_v1\n",
            "  3: voice_conversion_models/multilingual/multi-dataset/openvoice_v2\n"
          ]
        }
      ],
      "source": [
        "! tts --list_models"
      ]
    },
    {
      "cell_type": "markdown",
      "id": "ed9dd7ab",
      "metadata": {
        "id": "ed9dd7ab"
      },
      "source": [
        "## ✅ Run a 🐸 TTS model\n",
        "\n",
        "#### **First things first**: Using a release model and default vocoder:\n",
        "\n",
        "You can simply copy the full model name from the list above and use it\n"
      ]
    },
    {
      "cell_type": "code",
      "execution_count": 3,
      "id": "cc9e4608-16ec-4dcd-bd6b-bd10d62286f8",
      "metadata": {
        "colab": {
          "base_uri": "https://localhost:8080/"
        },
        "id": "cc9e4608-16ec-4dcd-bd6b-bd10d62286f8",
        "outputId": "4b6e47e1-b6a0-4f77-979b-5eabd47d5c24"
      },
      "outputs": [
        {
          "output_type": "stream",
          "name": "stdout",
          "text": [
            "2024-12-14 01:16:30.568289: E external/local_xla/xla/stream_executor/cuda/cuda_fft.cc:485] Unable to register cuFFT factory: Attempting to register factory for plugin cuFFT when one has already been registered\n",
            "2024-12-14 01:16:30.647645: E external/local_xla/xla/stream_executor/cuda/cuda_dnn.cc:8454] Unable to register cuDNN factory: Attempting to register factory for plugin cuDNN when one has already been registered\n",
            "2024-12-14 01:16:30.671814: E external/local_xla/xla/stream_executor/cuda/cuda_blas.cc:1452] Unable to register cuBLAS factory: Attempting to register factory for plugin cuBLAS when one has already been registered\n",
            "2024-12-14 01:16:30.725567: I tensorflow/core/platform/cpu_feature_guard.cc:210] This TensorFlow binary is optimized to use available CPU instructions in performance-critical operations.\n",
            "To enable the following instructions: AVX2 FMA, in other operations, rebuild TensorFlow with the appropriate compiler flags.\n",
            "2024-12-14 01:16:33.869333: W tensorflow/compiler/tf2tensorrt/utils/py_utils.cc:38] TF-TRT Warning: Could not find TensorRT\n",
            "Downloading model to /root/.local/share/tts/tts_models--en--ljspeech--glow-tts\n",
            " 99% 341M/344M [00:09<00:00, 28.4MiB/s]Model's license - MPL\n",
            "Check https://www.mozilla.org/en-US/MPL/2.0/ for more info.\n",
            "Downloading model to /root/.local/share/tts/vocoder_models--en--ljspeech--multiband-melgan\n",
            "\n",
            "100% 344M/344M [00:14<00:00, 24.1MiB/s]\n",
            "\n",
            "  0% 97.3k/82.8M [00:00<01:27, 950kiB/s]\u001b[A\n",
            "  1% 617k/82.8M [00:00<00:23, 3.43MiB/s]\u001b[A\n",
            "  3% 2.90M/82.8M [00:00<00:06, 11.7MiB/s]\u001b[A\n",
            "  9% 7.87M/82.8M [00:00<00:02, 26.3MiB/s]\u001b[A\n",
            " 13% 10.5M/82.8M [00:00<00:03, 19.6MiB/s]\u001b[A\n",
            " 17% 14.3M/82.8M [00:00<00:02, 24.5MiB/s]\u001b[A\n",
            " 22% 18.6M/82.8M [00:00<00:02, 29.9MiB/s]\u001b[A\n",
            " 26% 21.9M/82.8M [00:00<00:02, 29.2MiB/s]\u001b[A\n",
            " 32% 26.3M/82.8M [00:01<00:01, 33.5MiB/s]\u001b[A\n",
            " 38% 31.3M/82.8M [00:01<00:01, 38.2MiB/s]\u001b[A\n",
            " 43% 35.3M/82.8M [00:01<00:01, 34.6MiB/s]\u001b[A\n",
            " 48% 40.1M/82.8M [00:01<00:01, 38.2MiB/s]\u001b[A\n",
            " 53% 44.0M/82.8M [00:01<00:01, 37.1MiB/s]\u001b[A\n",
            " 60% 49.5M/82.8M [00:01<00:00, 40.8MiB/s]\u001b[A\n",
            " 65% 53.6M/82.8M [00:02<00:01, 16.2MiB/s]\u001b[A\n",
            " 73% 60.3M/82.8M [00:02<00:00, 22.7MiB/s]\u001b[A\n",
            " 78% 64.3M/82.8M [00:02<00:00, 23.8MiB/s]\u001b[A\n",
            " 83% 69.2M/82.8M [00:02<00:00, 28.2MiB/s]\u001b[A\n",
            " 89% 73.4M/82.8M [00:02<00:00, 28.1MiB/s]\u001b[A\n",
            " 96% 79.2M/82.8M [00:02<00:00, 34.3MiB/s]\u001b[AModel's license - MPL\n",
            "Check https://www.mozilla.org/en-US/MPL/2.0/ for more info.\n",
            "Using model: glow_tts\n",
            "Setting up Audio Processor...\n",
            " | sample_rate: 22050\n",
            " | resample: False\n",
            " | num_mels: 80\n",
            " | log_func: np.log10\n",
            " | min_level_db: -100\n",
            " | frame_shift_ms: None\n",
            " | frame_length_ms: None\n",
            " | ref_level_db: 0\n",
            " | fft_size: 1024\n",
            " | power: 1.1\n",
            " | preemphasis: 0.0\n",
            " | griffin_lim_iters: 60\n",
            " | signal_norm: False\n",
            " | symmetric_norm: True\n",
            " | mel_fmin: 50.0\n",
            " | mel_fmax: 7600.0\n",
            " | pitch_fmin: 1.0\n",
            " | pitch_fmax: 640.0\n",
            " | spec_gain: 1.0\n",
            " | stft_pad_mode: reflect\n",
            " | max_norm: 1.0\n",
            " | clip_norm: True\n",
            " | do_trim_silence: True\n",
            " | trim_db: 60\n",
            " | do_sound_norm: False\n",
            " | do_amp_to_db_linear: True\n",
            " | do_amp_to_db_mel: True\n",
            " | do_rms_norm: False\n",
            " | db_level: None\n",
            " | stats_path: None\n",
            " | base: 10\n",
            " | hop_length: 256\n",
            " | win_length: 1024\n",
            "Setting up Audio Processor...\n",
            " | sample_rate: 22050\n",
            " | resample: False\n",
            " | num_mels: 80\n",
            " | log_func: np.log10\n",
            " | min_level_db: -100\n",
            " | frame_shift_ms: None\n",
            " | frame_length_ms: None\n",
            " | ref_level_db: 0\n",
            " | fft_size: 1024\n",
            " | power: 1.5\n",
            " | preemphasis: 0.0\n",
            " | griffin_lim_iters: 60\n",
            " | signal_norm: True\n",
            " | symmetric_norm: True\n",
            " | mel_fmin: 50.0\n",
            " | mel_fmax: 7600.0\n",
            " | pitch_fmin: 0.0\n",
            " | pitch_fmax: 640.0\n",
            " | spec_gain: 1.0\n",
            " | stft_pad_mode: reflect\n",
            " | max_norm: 4.0\n",
            " | clip_norm: True\n",
            " | do_trim_silence: True\n",
            " | trim_db: 60\n",
            " | do_sound_norm: False\n",
            " | do_amp_to_db_linear: True\n",
            " | do_amp_to_db_mel: True\n",
            " | do_rms_norm: False\n",
            " | db_level: None\n",
            " | stats_path: /root/.local/share/tts/vocoder_models--en--ljspeech--multiband-melgan/scale_stats.npy\n",
            " | base: 10\n",
            " | hop_length: 256\n",
            " | win_length: 1024\n",
            "Vocoder model: multiband_melgan\n",
            "Setting up Audio Processor...\n",
            " | sample_rate: 22050\n",
            " | resample: False\n",
            " | num_mels: 80\n",
            " | log_func: np.log10\n",
            " | min_level_db: -100\n",
            " | frame_shift_ms: None\n",
            " | frame_length_ms: None\n",
            " | ref_level_db: 0\n",
            " | fft_size: 1024\n",
            " | power: 1.5\n",
            " | preemphasis: 0.0\n",
            " | griffin_lim_iters: 60\n",
            " | signal_norm: True\n",
            " | symmetric_norm: True\n",
            " | mel_fmin: 50.0\n",
            " | mel_fmax: 7600.0\n",
            " | pitch_fmin: 0.0\n",
            " | pitch_fmax: 640.0\n",
            " | spec_gain: 1.0\n",
            " | stft_pad_mode: reflect\n",
            " | max_norm: 4.0\n",
            " | clip_norm: True\n",
            " | do_trim_silence: True\n",
            " | trim_db: 60\n",
            " | do_sound_norm: False\n",
            " | do_amp_to_db_linear: True\n",
            " | do_amp_to_db_mel: True\n",
            " | do_rms_norm: False\n",
            " | db_level: None\n",
            " | stats_path: /root/.local/share/tts/vocoder_models--en--ljspeech--multiband-melgan/scale_stats.npy\n",
            " | base: 10\n",
            " | hop_length: 256\n",
            " | win_length: 1024\n",
            "Generator model: multiband_melgan_generator\n",
            "Discriminator model: melgan_multiscale_discriminator\n",
            "Text: hello world\n",
            "Text split into sentences.\n",
            "Input: ['hello world']\n",
            "Processing time: 0.801\n",
            "Real-time factor: 0.579\n",
            "Saved TTS output to output.wav\n",
            "100% 82.8M/82.8M [00:07<00:00, 11.0MiB/s]\n"
          ]
        }
      ],
      "source": [
        "!tts --text \"hello world\" \\\n",
        "--model_name \"tts_models/en/ljspeech/glow-tts\" \\\n",
        "--out_path output.wav\n"
      ]
    },
    {
      "cell_type": "markdown",
      "id": "0ca2cb14-1aba-400e-a219-8ce44d9410be",
      "metadata": {
        "id": "0ca2cb14-1aba-400e-a219-8ce44d9410be"
      },
      "source": [
        "## 📣 Listen to the synthesized wave 📣"
      ]
    },
    {
      "cell_type": "code",
      "execution_count": 4,
      "id": "5fe63ef4-9284-4461-9dda-1ca7483a8f9b",
      "metadata": {
        "colab": {
          "base_uri": "https://localhost:8080/",
          "height": 75
        },
        "id": "5fe63ef4-9284-4461-9dda-1ca7483a8f9b",
        "outputId": "ae71bd9a-9d8e-49ce-d77e-09883789d674"
      },
      "outputs": [
        {
          "output_type": "execute_result",
          "data": {
            "text/plain": [
              "<IPython.lib.display.Audio object>"
            ],
            "text/html": [
              "\n",
              "                <audio  controls=\"controls\" >\n",
              "                    <source src=\"data:audio/x-wav;base64,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\" type=\"audio/x-wav\" />\n",
              "                    Your browser does not support the audio element.\n",
              "                </audio>\n",
              "              "
            ]
          },
          "metadata": {},
          "execution_count": 4
        }
      ],
      "source": [
        "import IPython\n",
        "IPython.display.Audio(\"output.wav\")"
      ]
    },
    {
      "cell_type": "markdown",
      "id": "5e67d178-1ebe-49c7-9a47-0593251bdb96",
      "metadata": {
        "id": "5e67d178-1ebe-49c7-9a47-0593251bdb96"
      },
      "source": [
        "### **Second things second**:\n",
        "\n",
        "🔶 A TTS model can be either trained on a single speaker voice or multispeaker voices. This training choice is directly reflected on the inference ability and the available speaker voices that can be used to synthesize speech.\n",
        "\n",
        "🔶 If you want to run a multispeaker model from the released models list, you can first check the speaker ids using `--list_speaker_idx` flag and use this speaker voice to synthesize speech."
      ]
    },
    {
      "cell_type": "code",
      "execution_count": null,
      "id": "87b18839-f750-4a61-bbb0-c964acaecab2",
      "metadata": {
        "id": "87b18839-f750-4a61-bbb0-c964acaecab2"
      },
      "outputs": [],
      "source": [
        "# list the possible speaker IDs.\n",
        "!tts --model_name \"tts_models/en/vctk/vits\" \\\n",
        "--list_speaker_idxs\n"
      ]
    },
    {
      "cell_type": "markdown",
      "id": "c4365a9d-f922-4b14-88b0-d2b22a245b2e",
      "metadata": {
        "id": "c4365a9d-f922-4b14-88b0-d2b22a245b2e"
      },
      "source": [
        "## 💬 Synthesize speech using speaker ID 💬"
      ]
    },
    {
      "cell_type": "code",
      "execution_count": null,
      "id": "52be0403-d13e-4d9b-99c2-c10b85154063",
      "metadata": {
        "id": "52be0403-d13e-4d9b-99c2-c10b85154063"
      },
      "outputs": [],
      "source": [
        "!tts --text \"Trying out specific speaker voice\"\\\n",
        "--out_path spkr-out.wav --model_name \"tts_models/en/vctk/vits\" \\\n",
        "--speaker_idx \"p341\""
      ]
    },
    {
      "cell_type": "markdown",
      "id": "894a560a-f9c8-48ce-aaa6-afdf516c01f6",
      "metadata": {
        "id": "894a560a-f9c8-48ce-aaa6-afdf516c01f6"
      },
      "source": [
        "## 📣 Listen to the synthesized speaker specific wave 📣"
      ]
    },
    {
      "cell_type": "code",
      "execution_count": null,
      "id": "ed485b0a-dfd5-4a7e-a571-ebf74bdfc41d",
      "metadata": {
        "id": "ed485b0a-dfd5-4a7e-a571-ebf74bdfc41d"
      },
      "outputs": [],
      "source": [
        "import IPython\n",
        "IPython.display.Audio(\"spkr-out.wav\")"
      ]
    },
    {
      "cell_type": "markdown",
      "id": "84636a38-097e-4dad-933b-0aeaee650e92",
      "metadata": {
        "id": "84636a38-097e-4dad-933b-0aeaee650e92"
      },
      "source": [
        "🔶 If you want to use an external speaker to synthesize speech, you need to supply `--speaker_wav` flag along with an external speaker encoder path and config file, as follows:"
      ]
    },
    {
      "cell_type": "markdown",
      "id": "cbdb15fa-123a-4282-a127-87b50dc70365",
      "metadata": {
        "id": "cbdb15fa-123a-4282-a127-87b50dc70365"
      },
      "source": [
        "First we need to get the speaker encoder model, its config and a referece `speaker_wav`"
      ]
    },
    {
      "cell_type": "code",
      "execution_count": null,
      "id": "e54f1b13-560c-4fed-bafd-e38ec9712359",
      "metadata": {
        "id": "e54f1b13-560c-4fed-bafd-e38ec9712359"
      },
      "outputs": [],
      "source": [
        "!wget https://github.com/coqui-ai/TTS/releases/download/speaker_encoder_model/config_se.json\n",
        "!wget https://github.com/coqui-ai/TTS/releases/download/speaker_encoder_model/model_se.pth.tar\n",
        "!wget https://github.com/coqui-ai/TTS/raw/speaker_encoder_model/tests/data/ljspeech/wavs/LJ001-0001.wav"
      ]
    },
    {
      "cell_type": "code",
      "execution_count": null,
      "id": "6dac1912-5054-4a68-8357-6d20fd99cb10",
      "metadata": {
        "id": "6dac1912-5054-4a68-8357-6d20fd99cb10"
      },
      "outputs": [],
      "source": [
        "!tts --model_name tts_models/multilingual/multi-dataset/your_tts \\\n",
        "--encoder_path model_se.pth.tar \\\n",
        "--encoder_config config_se.json \\\n",
        "--speaker_wav LJ001-0001.wav \\\n",
        "--text \"Are we not allowed to dim the lights so people can see that a bit better?\"\\\n",
        "--out_path spkr-out.wav \\\n",
        "--language_idx \"en\""
      ]
    },
    {
      "cell_type": "markdown",
      "id": "92ddce58-8aca-4f69-84c3-645ae1b12e7d",
      "metadata": {
        "id": "92ddce58-8aca-4f69-84c3-645ae1b12e7d"
      },
      "source": [
        "## 📣 Listen to the synthesized speaker specific wave 📣"
      ]
    },
    {
      "cell_type": "code",
      "execution_count": null,
      "id": "cc889adc-9c71-4232-8e85-bfc8f76476f4",
      "metadata": {
        "id": "cc889adc-9c71-4232-8e85-bfc8f76476f4"
      },
      "outputs": [],
      "source": [
        "import IPython\n",
        "IPython.display.Audio(\"spkr-out.wav\")"
      ]
    },
    {
      "cell_type": "markdown",
      "id": "29101d01-0b01-4153-a216-5dae415a5dd6",
      "metadata": {
        "id": "29101d01-0b01-4153-a216-5dae415a5dd6"
      },
      "source": [
        "## 🎉 Congratulations! 🎉 You now know how to use a TTS model to synthesize speech!\n",
        "Follow up with the next tutorials to learn more adnavced material."
      ]
    }
  ],
  "metadata": {
    "kernelspec": {
      "display_name": "Python 3 (ipykernel)",
      "language": "python",
      "name": "python3"
    },
    "language_info": {
      "codemirror_mode": {
        "name": "ipython",
        "version": 3
      },
      "file_extension": ".py",
      "mimetype": "text/x-python",
      "name": "python",
      "nbconvert_exporter": "python",
      "pygments_lexer": "ipython3",
      "version": "3.8.10"
    },
    "colab": {
      "provenance": [],
      "include_colab_link": true
    }
  },
  "nbformat": 4,
  "nbformat_minor": 5
}