{
  "nbformat": 4,
  "nbformat_minor": 0,
  "metadata": {
    "colab": {
      "provenance": [],
      "machine_shape": "hm",
      "gpuType": "L4",
      "authorship_tag": "ABX9TyOkDp/UdSjKuhX+3MPBoN1J",
      "include_colab_link": true
    },
    "kernelspec": {
      "name": "python3",
      "display_name": "Python 3"
    },
    "language_info": {
      "name": "python"
    },
    "accelerator": "GPU"
  },
  "cells": [
    {
      "cell_type": "markdown",
      "metadata": {
        "id": "view-in-github",
        "colab_type": "text"
      },
      "source": [
        "<a href=\"https://colab.research.google.com/github/toddlack/colab/blob/main/coquiTTS_base.ipynb\" target=\"_parent\"><img src=\"https://colab.research.google.com/assets/colab-badge.svg\" alt=\"Open In Colab\"/></a>"
      ]
    },
    {
      "cell_type": "code",
      "source": [
        "from google.colab import drive\n",
        "drive.mount('/drive')"
      ],
      "metadata": {
        "id": "GviH9pNn3xNS"
      },
      "execution_count": null,
      "outputs": []
    },
    {
      "cell_type": "markdown",
      "source": [
        "Copy files from google drive to session's  /content folder"
      ],
      "metadata": {
        "id": "LmZpZ2dz_RIP"
      }
    },
    {
      "cell_type": "code",
      "source": [
        "from google.colab import files\n",
        "%mkdir -p /content/tts_models/tammy09apr\n",
        "%cp /drive/MyDrive/ai_voice/tammy09apr-300epochs/tammy09apr-300epochs9300.pth /content/tts_models/tammy09apr"
      ],
      "metadata": {
        "id": "1RMiF6Dw8ArP"
      },
      "execution_count": null,
      "outputs": []
    },
    {
      "cell_type": "markdown",
      "source": [
        "Install Dependencies"
      ],
      "metadata": {
        "id": "IPyIQ1BL39pX"
      }
    },
    {
      "cell_type": "code",
      "source": [
        "# @title Clone repo for local use\n",
        "#Clone a repo and cd into the new directory\n",
        "content_root = \"/content\" # @param {\"type\":\"string\",\"placeholder\":\"content root\"}\n",
        "git_repo='https://github.com/coqui-ai/TTS.git'  # @param {\"type\":\"string\",\"placeholder\":\"git repo url\"}\n",
        "git_branch='dev'  # @param {\"type\":\"string\",\"placeholder\":\"git branch\"}\n",
        "app_root=git_repo.split('/')[-1].replace('.git', '')\n",
        "assets_dir=f'{content_root}/{app_root}/assets'\n",
        "%cd {content_root}\n",
        "!git clone --single-branch -b {git_branch} {git_repo}\n",
        "%cd {app_root}"
      ],
      "metadata": {
        "id": "Qkx1Xt3IAMlN"
      },
      "execution_count": null,
      "outputs": []
    },
    {
      "cell_type": "markdown",
      "source": [
        "Copy dataset (audio) to train"
      ],
      "metadata": {
        "id": "TayiBDcnLB4W"
      }
    },
    {
      "cell_type": "code",
      "source": [
        "# prompt: copy directory from dataset_source variable to content_root/dataset\n",
        "\n",
        "# Copy dataset (audio) to train\n",
        "dataset_source = '/drive/MyDrive/ai_voice/training_audio/tammy' # @param {\"type\":\"string\",\"placeholder\":\"path to source audio dataset\"}\n",
        "dataset_destination = 'dataset/audio' # @param {\"type\":\"string\",\"placeholder\":\"path to audio destination\"}\n",
        "%mkdir -p \"{content_root}/{dataset_destination}\"\n",
        "%cp -rv \"{dataset_source}\" \"{content_root}/{dataset_destination}\""
      ],
      "metadata": {
        "id": "wofOq5IILvhr"
      },
      "execution_count": null,
      "outputs": []
    },
    {
      "cell_type": "code",
      "execution_count": null,
      "metadata": {
        "id": "Ps0p-sd-3DuO"
      },
      "outputs": [],
      "source": [
        "# prompt: python code to generate text to voice using coqui TTS and pytorch\n",
        "%pip install numpy==1.22 # Install the required NumPy version\n",
        "%pip install TTS --upgrade --no-cache-dir # Reinstall/upgrade TTS after fixing NumPy, to ensure it links against the correct NumPy version\n",
        "%pip install torch\n",
        "\n"
      ]
    },
    {
      "cell_type": "code",
      "source": [],
      "metadata": {
        "id": "zpwcpUQ6RQIK"
      },
      "execution_count": null,
      "outputs": []
    },
    {
      "cell_type": "markdown",
      "source": [
        "Set TTS"
      ],
      "metadata": {
        "id": "uhSgyB0H4ogO"
      }
    },
    {
      "cell_type": "code",
      "source": [
        "import torch\n",
        "from TTS.api import TTS\n",
        "\n",
        "#Determine device\n",
        "device = torch.device(\"cuda\" if torch.cuda.is_available() else \"cpu\")\n",
        "\n",
        "model_path_tammy=\"/content/tts_models/tammy09apr/\"\n",
        "config_path_tammy=\"/content/tts_models/tammy09apr/config.json\"\n",
        "\n",
        "# Init TTS\n",
        "tts = TTS(\"tts_models/en/ljspeech/tacotron2-DDC\")  # Load the desired model\n",
        "ttsTammy = TTS(model_path_tammy, config_path_tammy)  # Load the desired model\n",
        "# Run TTS\n",
        "tts.tts_to_file(text=\"Hello world!\", speaker=None, file_path=\"output.wav\")\n",
        "ttsT.tts_to_file(text=\"Hello world!\", speaker=None, file_path=\"outputTammy.wav\")\n"
      ],
      "metadata": {
        "id": "f6bRievV-7EQ"
      },
      "execution_count": null,
      "outputs": []
    }
  ]
}