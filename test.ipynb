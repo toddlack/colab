{
 "cells": [
  {
   "cell_type": "markdown",
   "metadata": {},
   "source": [
    "## Setup"
   ]
  },
  {
   "cell_type": "code",
   "execution_count": null,
   "metadata": {},
   "outputs": [],
   "source": [
    "#@markdown See version <a href=\"https://github.com/comfyanonymous/ComfyUI/releases\" target=\"_blank\">here</a>. Leave it blank for the latest version.\n",
    "output_path = 'AI_PICS' #@param {type:\"string\"}\n",
    "version='' #@param {type: \"string\"}\n",
    "\n",
    "# Define folders\n",
    "output_path = '/content/drive/MyDrive/' + output_path\n",
    "root = '/content'\n",
    "ComfyUIRoot = root + '/ComfyUI'\n",
    "customNodeRoot = ComfyUIRoot + '/custom_nodes/'\n",
    "image_output_path = output_path + '/outputs/comfyui'\n",
    "image_input_path = output_path + '/inputs'\n",
    "\n",
    "\n",
    "# Install ComfyUI\n",
    "%cd {root}\n",
    "!git clone https://github.com/comfyanonymous/ComfyUI.git\n",
    "if version:\n",
    "  !git checkout {version}\n",
    "%cd {ComfyUIRoot}\n",
    "%pip install -r requirements.txt"
   ]
  }
 ],
 "metadata": {
  "kernelspec": {
   "display_name": "Python 3",
   "language": "python",
   "name": "python3"
  },
  "language_info": {
   "codemirror_mode": {
    "name": "ipython",
    "version": 3
   },
   "file_extension": ".py",
   "mimetype": "text/x-python",
   "name": "python",
   "nbconvert_exporter": "python",
   "pygments_lexer": "ipython3",
   "version": "3.10.12"
  }
 },
 "nbformat": 4,
 "nbformat_minor": 2
}
